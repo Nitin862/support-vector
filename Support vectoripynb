{
 "cells": [
  {
   "cell_type": "code",
   "execution_count": 2,
   "id": "25655cf7-7542-4931-9a53-6b7a35cc446c",
   "metadata": {},
   "outputs": [
    {
     "data": {
      "text/plain": [
       "'Q1. What is the mathematical formula for a linear SVM? in words'"
      ]
     },
     "execution_count": 2,
     "metadata": {},
     "output_type": "execute_result"
    }
   ],
   "source": [
    "'''Q1. What is the mathematical formula for a linear SVM? in words'''"
   ]
  },
  {
   "cell_type": "code",
   "execution_count": 1,
   "id": "29611e6f-e161-4291-8ba0-6f877f449c1f",
   "metadata": {},
   "outputs": [
    {
     "data": {
      "text/plain": [
       "'A linear SVM finds the optimal hyperplane that separates data into different classes. \\n\\n1. **Hyperplane Definition**: The hyperplane is determined by a weight vector and a bias term, which together define a linear boundary in the feature space.\\n\\n2. **Objective**: The goal is to maximize the margin, which is the distance between the hyperplane and the closest data points from each class. A larger margin indicates better separation.\\n\\n3. **Constraints**: Each data point must be correctly classified with a margin of at least one unit from the hyperplane. This ensures that the data points are on the correct side of the boundary with a minimum distance from it.'"
      ]
     },
     "execution_count": 1,
     "metadata": {},
     "output_type": "execute_result"
    }
   ],
   "source": [
    "'''A linear SVM finds the optimal hyperplane that separates data into different classes. \n",
    "\n",
    "1. **Hyperplane Definition**: The hyperplane is determined by a weight vector and a bias term, which together define a linear boundary in the feature space.\n",
    "\n",
    "2. **Objective**: The goal is to maximize the margin, which is the distance between the hyperplane and the closest data points from each class. A larger margin indicates better separation.\n",
    "\n",
    "3. **Constraints**: Each data point must be correctly classified with a margin of at least one unit from the hyperplane. This ensures that the data points are on the correct side of the boundary with a minimum distance from it.'''"
   ]
  },
  {
   "cell_type": "code",
   "execution_count": 3,
   "id": "19fae95e-798c-48f3-98a4-59838465f3e1",
   "metadata": {},
   "outputs": [
    {
     "data": {
      "text/plain": [
       "'Q2. What is the objective function of a linear SVM?'"
      ]
     },
     "execution_count": 3,
     "metadata": {},
     "output_type": "execute_result"
    }
   ],
   "source": [
    "'''Q2. What is the objective function of a linear SVM?'''"
   ]
  },
  {
   "cell_type": "code",
   "execution_count": 4,
   "id": "cdfcba08-8319-47c3-92a8-810537281f68",
   "metadata": {},
   "outputs": [
    {
     "data": {
      "text/plain": [
       "'The objective function of a linear SVM is to maximize the margin between the two classes, which is equivalent to minimizing the norm of the weight vector while ensuring correct classification of the training data.'"
      ]
     },
     "execution_count": 4,
     "metadata": {},
     "output_type": "execute_result"
    }
   ],
   "source": [
    "'''The objective function of a linear SVM is to maximize the margin between the two classes, which is equivalent to minimizing the norm of the weight vector while ensuring correct classification of the training data.'''"
   ]
  },
  {
   "cell_type": "code",
   "execution_count": 5,
   "id": "1b6b8efe-7a94-4f4d-ab22-98c789a97ea2",
   "metadata": {},
   "outputs": [
    {
     "data": {
      "text/plain": [
       "'Q3. What is the kernel trick in SVM?'"
      ]
     },
     "execution_count": 5,
     "metadata": {},
     "output_type": "execute_result"
    }
   ],
   "source": [
    "'''Q3. What is the kernel trick in SVM?'''"
   ]
  },
  {
   "cell_type": "code",
   "execution_count": 6,
   "id": "46268fbd-731a-4329-880d-32b9f1f8bf51",
   "metadata": {},
   "outputs": [
    {
     "data": {
      "text/plain": [
       "'The kernel trick in SVM involves using a mathematical function to transform data into a higher-dimensional space where it becomes easier to find a separating hyperplane. This allows SVM to handle non-linearly separable data by implicitly computing dot products in the transformed space without explicitly performing the transformation.'"
      ]
     },
     "execution_count": 6,
     "metadata": {},
     "output_type": "execute_result"
    }
   ],
   "source": [
    "'''The kernel trick in SVM involves using a mathematical function to transform data into a higher-dimensional space where it becomes easier to find a separating hyperplane. This allows SVM to handle non-linearly separable data by implicitly computing dot products in the transformed space without explicitly performing the transformation.'''"
   ]
  },
  {
   "cell_type": "code",
   "execution_count": 7,
   "id": "cfb4658c-dd03-4408-9b40-9e048f153c97",
   "metadata": {},
   "outputs": [
    {
     "data": {
      "text/plain": [
       "'Q4. What is the role of support vectors in SVM Explain with example'"
      ]
     },
     "execution_count": 7,
     "metadata": {},
     "output_type": "execute_result"
    }
   ],
   "source": [
    "'''Q4. What is the role of support vectors in SVM Explain with example'''"
   ]
  },
  {
   "cell_type": "code",
   "execution_count": 8,
   "id": "5916956c-d296-4761-8be5-5b0fb556d923",
   "metadata": {},
   "outputs": [
    {
     "data": {
      "text/plain": [
       "'Support vectors are the data points closest to the decision boundary (hyperplane) in an SVM. They are crucial because they define the position and orientation of the hyperplane. \\n\\n**Example**: In a binary classification task, imagine a set of data points with two classes. The support vectors are the few points from each class that lie on the edge of the margin. These points are used to determine the optimal hyperplane that maximizes the margin between the classes. Points that are not support vectors do not affect the position of the hyperplane once it is defined by the support vectors.'"
      ]
     },
     "execution_count": 8,
     "metadata": {},
     "output_type": "execute_result"
    }
   ],
   "source": [
    "'''Support vectors are the data points closest to the decision boundary (hyperplane) in an SVM. They are crucial because they define the position and orientation of the hyperplane. \n",
    "\n",
    "**Example**: In a binary classification task, imagine a set of data points with two classes. The support vectors are the few points from each class that lie on the edge of the margin. These points are used to determine the optimal hyperplane that maximizes the margin between the classes. Points that are not support vectors do not affect the position of the hyperplane once it is defined by the support vectors.'''"
   ]
  },
  {
   "cell_type": "code",
   "execution_count": 10,
   "id": "b9dfd039-a661-4062-bbb2-c9e2a2a30ce4",
   "metadata": {},
   "outputs": [
    {
     "data": {
      "text/plain": [
       "'Q5. Illustrate with examples and graphs of Hyperplane, Marginal plane, Soft margin and Hard margin in\\nSVM?'"
      ]
     },
     "execution_count": 10,
     "metadata": {},
     "output_type": "execute_result"
    }
   ],
   "source": [
    "'''Q5. Illustrate with examples and graphs of Hyperplane, Marginal plane, Soft margin and Hard margin in\n",
    "SVM?'''"
   ]
  },
  {
   "cell_type": "code",
   "execution_count": null,
   "id": "a3ac5b95-c297-455e-a5b6-b85406eb5b94",
   "metadata": {},
   "outputs": [],
   "source": [
    "'''Here's a concise illustration of key concepts in SVM with examples and graphs:\n",
    "\n",
    "1. **Hyperplane**:\n",
    "   - **Description**: The decision boundary that separates different classes.\n",
    "   - **Example**: In a 2D space, this is a line dividing the plane into two regions.\n",
    "\n",
    "  \n",
    "2. **Marginal Plane**:\n",
    "   - **Description**: Planes parallel to the hyperplane that pass through the support vectors. They define the margin.\n",
    "   - **Example**: In the graph, these are the lines on either side of the hyperplane, representing the maximum margin.\n",
    "\n",
    "   \n",
    "\n",
    "3. **Soft Margin**:\n",
    "   - **Description**: Allows some data points to be on the wrong side of the margin to handle overlapping classes.\n",
    "   - **Example**: Some points are allowed within the margin or on the wrong side to improve classification performance on noisy data.\n",
    "\n",
    "   ![Soft Margin](https://i.imgur.com/j5ckL5F.png)\n",
    "\n",
    "4. **Hard Margin**:\n",
    "   - **Description**: Assumes no misclassifications and strictly separates classes with a clear margin.\n",
    "   - **Example**: Data points are perfectly separated by the hyperplane with no points within the margin.\n",
    "\n",
    "   \n",
    "\n",
    "In each graph:\n",
    "- **Hyperplane** is the central line.\n",
    "- **Marginal Planes** are parallel lines to the hyperplane at the margin distance.\n",
    "- **Soft Margin** shows some points within the margin or misclassified.\n",
    "- **Hard Margin** shows no points within the margin or misclassified.'''"
   ]
  },
  {
   "cell_type": "code",
   "execution_count": 11,
   "id": "8b2f41bc-776f-4182-b2b3-ecd572a8b161",
   "metadata": {},
   "outputs": [
    {
     "data": {
      "text/plain": [
       "'Q6. SVM Implementation through Iris dataset.\\n\\nBonus task: Implement a linear SVM classifier from scratch using Python and compare its\\nperformance with the scikit-learn implementation.\\n~ Load the iris dataset from the scikit-learn library and split it into a training set and a testing setl\\n~ Train a linear SVM classifier on the training set and predict the labels for the testing setl\\n~ Compute the accuracy of the model on the testing setl\\n~ Plot the decision boundaries of the trained model using two of the featuresl\\n~ Try different values of the regularisation parameter C and see how it affects the performance of\\nthe model.'"
      ]
     },
     "execution_count": 11,
     "metadata": {},
     "output_type": "execute_result"
    }
   ],
   "source": [
    "'''Q6. SVM Implementation through Iris dataset.\n",
    "\n",
    "Bonus task: Implement a linear SVM classifier from scratch using Python and compare its\n",
    "performance with the scikit-learn implementation.\n",
    "~ Load the iris dataset from the scikit-learn library and split it into a training set and a testing setl\n",
    "~ Train a linear SVM classifier on the training set and predict the labels for the testing setl\n",
    "~ Compute the accuracy of the model on the testing setl\n",
    "~ Plot the decision boundaries of the trained model using two of the featuresl\n",
    "~ Try different values of the regularisation parameter C and see how it affects the performance of\n",
    "the model.'''"
   ]
  },
  {
   "cell_type": "code",
   "execution_count": 12,
   "id": "b4490800-7832-4ddd-b9ae-e3dade2f0d24",
   "metadata": {},
   "outputs": [],
   "source": [
    "from sklearn.datasets import load_iris\n",
    "from sklearn.model_selection import train_test_split\n",
    "\n",
    "# Load dataset\n",
    "iris = load_iris()\n",
    "X = iris.data\n",
    "y = iris.target\n",
    "\n",
    "# Split dataset\n",
    "X_train, X_test, y_train, y_test = train_test_split(X, y, test_size=0.3, random_state=42)\n"
   ]
  },
  {
   "cell_type": "code",
   "execution_count": 13,
   "id": "509860ec-a71f-4336-b533-a7660f558ebc",
   "metadata": {},
   "outputs": [
    {
     "name": "stdout",
     "output_type": "stream",
     "text": [
      "Accuracy (scikit-learn): 1.00\n"
     ]
    },
    {
     "data": {
      "image/png": "[encoded data removed]",
      "text/plain": [
       "<Figure size 640x480 with 1 Axes>"
      ]
     },
     "metadata": {},
     "output_type": "display_data"
    }
   ],
   "source": [
    "from sklearn.svm import SVC\n",
    "from sklearn.metrics import accuracy_score\n",
    "import matplotlib.pyplot as plt\n",
    "import numpy as np\n",
    "\n",
    "# Train linear SVM\n",
    "svm = SVC(kernel='linear', C=1.0, random_state=42)\n",
    "svm.fit(X_train, y_train)\n",
    "\n",
    "# Predict and evaluate\n",
    "y_pred = svm.predict(X_test)\n",
    "accuracy = accuracy_score(y_test, y_pred)\n",
    "print(f\"Accuracy (scikit-learn): {accuracy:.2f}\")\n",
    "# Select two features for visualization\n",
    "X_train_2d = X_train[:, :2]\n",
    "X_test_2d = X_test[:, :2]\n",
    "\n",
    "# Train SVM\n",
    "svm_2d = SVC(kernel='linear', C=1.0, random_state=42)\n",
    "svm_2d.fit(X_train_2d, y_train)\n",
    "\n",
    "# Plot decision boundary\n",
    "xx, yy = np.meshgrid(np.linspace(X_train_2d[:, 0].min(), X_train_2d[:, 0].max(), 100),\n",
    "                     np.linspace(X_train_2d[:, 1].min(), X_train_2d[:, 1].max(), 100))\n",
    "Z = svm_2d.predict(np.c_[xx.ravel(), yy.ravel()])\n",
    "Z = Z.reshape(xx.shape)\n",
    "\n",
    "plt.contourf(xx, yy, Z, alpha=0.3)\n",
    "plt.scatter(X_train_2d[:, 0], X_train_2d[:, 1], c=y_train, edgecolors='k')\n",
    "plt.title('Decision Boundary (2D)')\n",
    "plt.xlabel('Feature 1')\n",
    "plt.ylabel('Feature 2')\n",
    "plt.show()\n"
   ]
  },
  {
   "cell_type": "code",
   "execution_count": 14,
   "id": "4e6cfb30-c197-4786-b94d-b958da2d04ac",
   "metadata": {},
   "outputs": [
    {
     "name": "stdout",
     "output_type": "stream",
     "text": [
      "Accuracy (custom SVM): 0.29\n"
     ]
    }
   ],
   "source": [
    "import numpy as np\n",
    "\n",
    "class LinearSVM:\n",
    "    def __init__(self, C=1.0, max_iter=1000, learning_rate=0.001):\n",
    "        self.C = C\n",
    "        self.max_iter = max_iter\n",
    "        self.learning_rate = learning_rate\n",
    "    \n",
    "    def fit(self, X, y):\n",
    "        self.w = np.zeros(X.shape[1])\n",
    "        self.b = 0\n",
    "        n_samples, n_features = X.shape\n",
    "        \n",
    "        for _ in range(self.max_iter):\n",
    "            for i in range(n_samples):\n",
    "                if y[i] * (np.dot(X[i], self.w) + self.b) < 1:\n",
    "                    self.w += self.learning_rate * (X[i] * y[i] - 2 * self.C * self.w)\n",
    "                    self.b += self.learning_rate * y[i]\n",
    "                else:\n",
    "                    self.w -= self.learning_rate * 2 * self.C * self.w\n",
    "    \n",
    "    def predict(self, X):\n",
    "        return np.sign(np.dot(X, self.w) + self.b)\n",
    "\n",
    "# Train and evaluate custom Linear SVM\n",
    "custom_svm = LinearSVM(C=1.0)\n",
    "custom_svm.fit(X_train_2d, y_train)\n",
    "custom_y_pred = custom_svm.predict(X_test_2d)\n",
    "custom_accuracy = accuracy_score(y_test, custom_y_pred)\n",
    "print(f\"Accuracy (custom SVM): {custom_accuracy:.2f}\")\n"
   ]
  },
  {
   "cell_type": "code",
   "execution_count": 15,
   "id": "5c618e88-cdbe-4a4e-872e-11269bda927c",
   "metadata": {},
   "outputs": [
    {
     "name": "stdout",
     "output_type": "stream",
     "text": [
      "Accuracy with C=0.1: 1.00\n",
      "Accuracy with C=1.0: 1.00\n",
      "Accuracy with C=10: 0.98\n"
     ]
    }
   ],
   "source": [
    "for C in [0.1, 1.0, 10]:\n",
    "    svm = SVC(kernel='linear', C=C, random_state=42)\n",
    "    svm.fit(X_train, y_train)\n",
    "    y_pred = svm.predict(X_test)\n",
    "    accuracy = accuracy_score(y_test, y_pred)\n",
    "    print(f\"Accuracy with C={C}: {accuracy:.2f}\")\n"
   ]
  },
  {
   "cell_type": "code",
   "execution_count": null,
   "id": "5b388560-bd8a-4b01-b9f8-1623239aea68",
   "metadata": {},
   "outputs": [],
   "source": []
  }
 ],
 "metadata": {
  "kernelspec": {
   "display_name": "Python 3 (ipykernel)",
   "language": "python",
   "name": "python3"
  },
  "language_info": {
   "codemirror_mode": {
    "name": "ipython",
    "version": 3
   },
   "file_extension": ".py",
   "mimetype": "text/x-python",
   "name": "python",
   "nbconvert_exporter": "python",
   "pygments_lexer": "ipython3",
   "version": "3.10.8"
  }
 },
 "nbformat": 4,
 "nbformat_minor": 5
}
